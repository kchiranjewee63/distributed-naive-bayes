{
 "cells": [
  {
   "cell_type": "code",
   "execution_count": 1,
   "id": "1fea4515",
   "metadata": {},
   "outputs": [],
   "source": [
    "from pyspark.sql import SparkSession\n",
    "from pyspark.sql.functions import split, explode\n",
    "from pyspark.sql.functions import udf\n",
    "from pyspark.sql.types import StringType\n",
    "from functools import reduce\n",
    "from pyspark.sql.functions import sum as _sum\n",
    "from math import log\n",
    "from math import e"
   ]
  },
  {
   "cell_type": "code",
   "execution_count": 2,
   "id": "32a86215",
   "metadata": {},
   "outputs": [],
   "source": [
    "spark = SparkSession.builder.appName(\"SentimentAnalysis\").getOrCreate()"
   ]
  },
  {
   "cell_type": "code",
   "execution_count": 3,
   "id": "c920ee04",
   "metadata": {},
   "outputs": [
    {
     "data": {
      "text/html": [
       "\n",
       "            <div>\n",
       "                <p><b>SparkSession - in-memory</b></p>\n",
       "                \n",
       "        <div>\n",
       "            <p><b>SparkContext</b></p>\n",
       "\n",
       "            <p><a href=\"http://DESKTOP-2C3NPD0:4040\">Spark UI</a></p>\n",
       "\n",
       "            <dl>\n",
       "              <dt>Version</dt>\n",
       "                <dd><code>v3.4.0</code></dd>\n",
       "              <dt>Master</dt>\n",
       "                <dd><code>local[*]</code></dd>\n",
       "              <dt>AppName</dt>\n",
       "                <dd><code>SentimentAnalysis</code></dd>\n",
       "            </dl>\n",
       "        </div>\n",
       "        \n",
       "            </div>\n",
       "        "
      ],
      "text/plain": [
       "<pyspark.sql.session.SparkSession at 0x2115f5675e0>"
      ]
     },
     "execution_count": 3,
     "metadata": {},
     "output_type": "execute_result"
    }
   ],
   "source": [
    "spark"
   ]
  },
  {
   "cell_type": "markdown",
   "id": "5caaef03",
   "metadata": {},
   "source": [
    "# Load the data"
   ]
  },
  {
   "cell_type": "code",
   "execution_count": 4,
   "id": "69dfed75",
   "metadata": {},
   "outputs": [],
   "source": [
    "movie_reviews_df = spark.read.csv(\"IMDB Dataset.csv\", header=True, inferSchema=True, quote='\"', escape='\"')"
   ]
  },
  {
   "cell_type": "code",
   "execution_count": 5,
   "id": "ee0b9d98",
   "metadata": {},
   "outputs": [
    {
     "name": "stdout",
     "output_type": "stream",
     "text": [
      "root\n",
      " |-- review: string (nullable = true)\n",
      " |-- sentiment: string (nullable = true)\n",
      "\n"
     ]
    }
   ],
   "source": [
    "movie_reviews_df.printSchema()"
   ]
  },
  {
   "cell_type": "code",
   "execution_count": 6,
   "id": "c2e58080",
   "metadata": {},
   "outputs": [],
   "source": [
    "weights = [0.01, 0.99] # 70% for training, 30% for testing\n",
    "training_data, testing_data = movie_reviews_df.randomSplit(weights)"
   ]
  },
  {
   "cell_type": "markdown",
   "id": "8b890eab",
   "metadata": {},
   "source": [
    "# Count the labels"
   ]
  },
  {
   "cell_type": "code",
   "execution_count": 45,
   "id": "729501c6",
   "metadata": {},
   "outputs": [
    {
     "name": "stdout",
     "output_type": "stream",
     "text": [
      "Training: {'positive': 267, 'negative': 247}\n",
      "Testing: {'positive': 24733, 'negative': 24753}\n"
     ]
    }
   ],
   "source": [
    "#Training\n",
    "counts = training_data.groupBy('sentiment').count()\n",
    "counts = counts.rdd.collectAsMap()\n",
    "print(\"Training:\", counts)\n",
    "\n",
    "#Testing\n",
    "test_counts = testing_data.groupBy('sentiment').count()\n",
    "test_counts = test_counts.rdd.collectAsMap()\n",
    "print(\"Testing:\", test_counts)"
   ]
  },
  {
   "cell_type": "markdown",
   "id": "def875e3",
   "metadata": {},
   "source": [
    "# Count the words"
   ]
  },
  {
   "cell_type": "code",
   "execution_count": 46,
   "id": "afff0774",
   "metadata": {},
   "outputs": [],
   "source": [
    "def get_words_count_in_a_class(reviews_data_frame, class_label):\n",
    "    class_reviews = reviews_data_frame.filter(reviews_data_frame.sentiment == class_label)\n",
    "    words_column = explode(split(class_reviews.review, \"\\s+\")).alias(\"word\")\n",
    "    words_counts = class_reviews.select(words_column).groupBy(\"word\").count()\n",
    "    total_count = words_counts.agg(_sum('count')).collect()[0][0]\n",
    "    words_counts = words_counts.rdd.collectAsMap()\n",
    "    return {\"total-count\":total_count, \"words-counts\":words_counts}"
   ]
  },
  {
   "cell_type": "code",
   "execution_count": 47,
   "id": "21594ca3",
   "metadata": {},
   "outputs": [],
   "source": [
    "# Training\n",
    "pos_counts = get_words_count_in_a_class(training_data, \"positive\")\n",
    "pos_counts[\"class-prob\"] = counts['positive']/(counts['positive'] + counts['negative'])\n",
    "neg_counts = get_words_count_in_a_class(training_data, \"negative\")\n",
    "neg_counts[\"class-prob\"] = counts['negative']/(counts['positive'] + counts['negative'])\n",
    "\n",
    "# Testing\n",
    "test_pos_counts = get_words_count_in_a_class(testing_data, \"positive\")\n",
    "test_pos_counts[\"class-prob\"] = test_counts['positive']/(test_counts['positive'] + test_counts['negative'])\n",
    "test_neg_counts = get_words_count_in_a_class(testing_data, \"negative\")\n",
    "test_neg_counts[\"class-prob\"] = test_counts['negative']/(test_counts['positive'] + test_counts['negative'])"
   ]
  },
  {
   "cell_type": "markdown",
   "id": "e0e3bb8f",
   "metadata": {},
   "source": [
    "# Naive Bayes"
   ]
  },
  {
   "cell_type": "code",
   "execution_count": 31,
   "id": "80a87781",
   "metadata": {},
   "outputs": [],
   "source": [
    "def log_prob_calculator(review, class_count):\n",
    "        words = review.split()\n",
    "        probs_list = [class_count[\"words-counts\"].get(word, 1)/class_count[\"total-count\"] for word in words]\n",
    "        return log(class_count['class-prob']) + reduce(lambda a, b: a + log(b), probs_list, 0)\n",
    "\n",
    "def create_predictor(pos_count_bc, neg_count_bc):\n",
    "    def predictor(review):\n",
    "        pos_log_prob = log_prob_calculator(review, pos_count_bc.value)\n",
    "        neg_log_prob = log_prob_calculator(review, neg_count_bc.value)\n",
    "        return 'positive' if pos_log_prob > neg_log_prob else 'negative'\n",
    "    return predictor"
   ]
  },
  {
   "cell_type": "code",
   "execution_count": 41,
   "id": "8bc8bb0f",
   "metadata": {},
   "outputs": [
    {
     "name": "stdout",
     "output_type": "stream",
     "text": [
      "0.9922178988326849\n"
     ]
    }
   ],
   "source": [
    "# Training predictions and accuracy\n",
    "pos_count_bc = spark.sparkContext.broadcast(pos_counts)\n",
    "neg_count_bc = spark.sparkContext.broadcast(neg_counts)\n",
    "\n",
    "predictor_udf = udf(create_predictor(pos_count_bc, neg_count_bc), StringType())\n",
    "\n",
    "predictions = training_data.withColumn('prediction', predictor_udf(training_data.review))\n",
    "\n",
    "accuracy = predictions.filter(predictions.sentiment == predictions.prediction).count()/training_data.count()\n",
    "print(accuracy)"
   ]
  },
  {
   "cell_type": "code",
   "execution_count": 39,
   "id": "533b98ef",
   "metadata": {},
   "outputs": [
    {
     "data": {
      "text/plain": [
       "Column<'(sentiment = predictions)'>"
      ]
     },
     "execution_count": 39,
     "metadata": {},
     "output_type": "execute_result"
    }
   ],
   "source": [
    "# Test predictions and accuracy\n",
    "pos_count_bc = spark.sparkContext.broadcast(test_pos_counts)\n",
    "neg_count_bc = spark.sparkContext.broadcast(test_neg_counts)\n",
    "\n",
    "predictor_udf = udf(create_predictor(pos_count_bc, neg_count_bc), StringType())\n",
    "\n",
    "predictions = training_data.withColumn('prediction', predictor_udf(training_data.review))\n",
    "\n",
    "accuracy = predictions.filter(predictions.sentiment == predictions.prediction).count()/training_data.count()\n",
    "print(accuracy)"
   ]
  }
 ],
 "metadata": {
  "kernelspec": {
   "display_name": "Python 3 (ipykernel)",
   "language": "python",
   "name": "python3"
  },
  "language_info": {
   "codemirror_mode": {
    "name": "ipython",
    "version": 3
   },
   "file_extension": ".py",
   "mimetype": "text/x-python",
   "name": "python",
   "nbconvert_exporter": "python",
   "pygments_lexer": "ipython3",
   "version": "3.10.9"
  }
 },
 "nbformat": 4,
 "nbformat_minor": 5
}
