{
 "cells": [
  {
   "cell_type": "code",
   "execution_count": 1,
   "id": "1fea4515",
   "metadata": {},
   "outputs": [],
   "source": [
    "import pyspark\n",
    "from pyspark.sql import SparkSession\n",
    "from pyspark.sql.functions import split, explode"
   ]
  },
  {
   "cell_type": "code",
   "execution_count": 2,
   "id": "32a86215",
   "metadata": {},
   "outputs": [],
   "source": [
    "spark = SparkSession.builder.appName(\"SentimentAnalysis\").getOrCreate()"
   ]
  },
  {
   "cell_type": "code",
   "execution_count": 3,
   "id": "27b2dc49",
   "metadata": {},
   "outputs": [
    {
     "data": {
      "text/html": [
       "\n",
       "            <div>\n",
       "                <p><b>SparkSession - in-memory</b></p>\n",
       "                \n",
       "        <div>\n",
       "            <p><b>SparkContext</b></p>\n",
       "\n",
       "            <p><a href=\"http://DESKTOP-2C3NPD0:4040\">Spark UI</a></p>\n",
       "\n",
       "            <dl>\n",
       "              <dt>Version</dt>\n",
       "                <dd><code>v3.4.0</code></dd>\n",
       "              <dt>Master</dt>\n",
       "                <dd><code>local[*]</code></dd>\n",
       "              <dt>AppName</dt>\n",
       "                <dd><code>SentimentAnalysis</code></dd>\n",
       "            </dl>\n",
       "        </div>\n",
       "        \n",
       "            </div>\n",
       "        "
      ],
      "text/plain": [
       "<pyspark.sql.session.SparkSession at 0x1af9ddb4490>"
      ]
     },
     "execution_count": 3,
     "metadata": {},
     "output_type": "execute_result"
    }
   ],
   "source": [
    "spark"
   ]
  },
  {
   "cell_type": "markdown",
   "id": "20c9ac66",
   "metadata": {},
   "source": [
    "# Load the data"
   ]
  },
  {
   "cell_type": "code",
   "execution_count": 4,
   "id": "69dfed75",
   "metadata": {},
   "outputs": [],
   "source": [
    "movie_reviews_df = spark.read.csv(\"IMDB Dataset.csv\", header=True, inferSchema=True, quote='\"', escape='\"')"
   ]
  },
  {
   "cell_type": "code",
   "execution_count": 5,
   "id": "ee0b9d98",
   "metadata": {},
   "outputs": [
    {
     "name": "stdout",
     "output_type": "stream",
     "text": [
      "root\n",
      " |-- review: string (nullable = true)\n",
      " |-- sentiment: string (nullable = true)\n",
      "\n"
     ]
    }
   ],
   "source": [
    "movie_reviews_df.printSchema()"
   ]
  },
  {
   "cell_type": "markdown",
   "id": "e89243f6",
   "metadata": {},
   "source": [
    "# Count the labels"
   ]
  },
  {
   "cell_type": "code",
   "execution_count": 6,
   "id": "6b3cf3a2",
   "metadata": {},
   "outputs": [
    {
     "name": "stdout",
     "output_type": "stream",
     "text": [
      "+---------+-----+\n",
      "|sentiment|count|\n",
      "+---------+-----+\n",
      "| positive|25000|\n",
      "| negative|25000|\n",
      "+---------+-----+\n",
      "\n"
     ]
    }
   ],
   "source": [
    "movie_reviews_df.groupBy('sentiment').count().show()"
   ]
  },
  {
   "cell_type": "code",
   "execution_count": 7,
   "id": "fb16b9bf",
   "metadata": {},
   "outputs": [
    {
     "name": "stdout",
     "output_type": "stream",
     "text": [
      "{'positive': 25000, 'negative': 25000}\n"
     ]
    }
   ],
   "source": [
    "counts = movie_reviews_df.groupBy('sentiment').count()\n",
    "counts = counts.rdd.collectAsMap()\n",
    "print(counts)"
   ]
  },
  {
   "cell_type": "markdown",
   "id": "ece15b2f",
   "metadata": {},
   "source": [
    "# Count the words"
   ]
  },
  {
   "cell_type": "code",
   "execution_count": 11,
   "id": "b3eaca14",
   "metadata": {},
   "outputs": [],
   "source": [
    "def get_words_count_in_a_class(reviews_data_frame, class_label):\n",
    "    class_reviews = reviews_data_frame.filter(reviews_data_frame.sentiment == class_label)\n",
    "    words_column = explode(split(class_reviews.review, \"\\s+\")).alias(\"word\")\n",
    "    words_counts = class_reviews.select(words_column).groupBy(\"word\").count()\n",
    "    words_counts = words_counts.rdd.collectAsMap()\n",
    "    return words_counts"
   ]
  },
  {
   "cell_type": "code",
   "execution_count": 12,
   "id": "792a76fd",
   "metadata": {},
   "outputs": [],
   "source": [
    "pos_words_counts = get_words_count_in_a_class(movie_reviews_df, \"positive\")\n",
    "neg_words_counts = get_words_count_in_a_class(movie_reviews_df, \"negative\")"
   ]
  }
 ],
 "metadata": {
  "kernelspec": {
   "display_name": "Python 3 (ipykernel)",
   "language": "python",
   "name": "python3"
  },
  "language_info": {
   "codemirror_mode": {
    "name": "ipython",
    "version": 3
   },
   "file_extension": ".py",
   "mimetype": "text/x-python",
   "name": "python",
   "nbconvert_exporter": "python",
   "pygments_lexer": "ipython3",
   "version": "3.10.9"
  }
 },
 "nbformat": 4,
 "nbformat_minor": 5
}
